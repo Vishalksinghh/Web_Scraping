{
  "nbformat": 4,
  "nbformat_minor": 0,
  "metadata": {
    "colab": {
      "name": "Amazon Web Scraping",
      "provenance": [],
      "authorship_tag": "ABX9TyOGo717ibSJT3Lo3A3mgefk",
      "include_colab_link": true
    },
    "kernelspec": {
      "name": "python3",
      "display_name": "Python 3"
    },
    "language_info": {
      "name": "python"
    }
  },
  "cells": [
    {
      "cell_type": "markdown",
      "metadata": {
        "id": "view-in-github",
        "colab_type": "text"
      },
      "source": [
        "<a href=\"https://colab.research.google.com/github/Vishalksinghh/Web_Scraping/blob/main/Amazon_Web_Scraping.ipynb\" target=\"_parent\"><img src=\"https://colab.research.google.com/assets/colab-badge.svg\" alt=\"Open In Colab\"/></a>"
      ]
    },
    {
      "cell_type": "markdown",
      "source": [
        "# <center>Scraping items on Amazon using Selenium Python</center>\n",
        "\n",
        "![banner-image](https://i.imgur.com/75ngH1z.jpeg)\n"
      ],
      "metadata": {
        "id": "Vy9op12qQufS"
      }
    },
    {
      "cell_type": "markdown",
      "source": [
        "[Amazon.com](https://www.amazon.com) is an American multinational technology company which focuses on e-commerce, cloud computing, digital streaming, and artificial intelligence. It has been referred to as \"one of the most influential economic and cultural forces in the world,\"[5] and is one of the world's most valuable brands.[6] It is one of the Big Five American information technology companies, alongside Alphabet, Apple, Meta, and Microsoft.\n",
        "\n",
        "In this project we'll retrive information of items on Amazon using _web scraping_: the process of extracting information from a website in an automated fashion using code. To achieve that we'll use Python library [Beautifulsoup](https://www.crummy.com/software/BeautifulSoup/bs4/doc/), selenium.webdriver and kora.selenium to fetch, parse and extract the information we need from the web page.\n"
      ],
      "metadata": {
        "id": "yfLzTNoTVcxo"
      }
    },
    {
      "cell_type": "markdown",
      "source": [
        "\n",
        "## Web Scraping \n",
        "\n",
        ">### Q1. What is Web Scraping?\n",
        ">Web scraping is the process of extracting and parsing data from websites in an automated fashion using a computer program. It's a useful technique for creating datasets for research and learning. While web scraping often involves parsing and processing [HTML documents](https://developer.mozilla.org/en-US/docs/Web/HTML), some platforms also offer [REST APIs](https://www.smashingmagazine.com/2018/01/understanding-using-rest-api/) to retrieve information in a machine-readable format like [JSON](https://www.digitalocean.com/community/tutorials/an-introduction-to-json).\n",
        ">\n",
        ">### Q2. How does web scraping work?\n",
        "![](https://i.imgur.com/iv6RhmW.png)\n",
        ">\n",
        ">To understand web scraping, it’s important to first understand that web pages are built with text-based mark-up languages – the most common being `HTML`.\n",
        ">\n",
        ">A mark-up language defines the structure of a website’s content. Since there are universal components and tags of mark-up languages, this makes it much easier for web scrapers to pull all the information that it needs.\n",
        "Once the HTML is parsed, the scraper then extracts the necessary data and stores it.  \n",
        "**Note**  : Not all websites allow Web Scraping, especially when personal information of the users is involved, so we should always ensure that we do not explore too much, and don't get our hands on information which might belong to someone else.\n",
        "Websites generally have protections at place, and they would block our access to the website if they see us scraping a large amount of data from their website."
      ],
      "metadata": {
        "id": "lZnGkrERebsf"
      }
    },
    {
      "cell_type": "markdown",
      "source": [
        "### Project Goal\n",
        "\n",
        "The project goal is to build a web scraper that retrive information about products on Amazon by giving the search term and assemble them into a single CSV. The format of the output CSV file is shown below:\n",
        "\n",
        "![](https://i.imgur.com/SkJo9yB.jpeg)\n",
        "\n",
        "\n",
        "\n",
        "Here's an outline of the steps we'll follow:\n",
        "\n",
        "1. Install and import required libraries\n",
        "2. Parse the HTML source code using beautiful soup\n",
        "3. Extract item descriptions, price, rating, review_count and url from webpage\n",
        "4. Compile extracted information into Python lists and dictionaries\n",
        "5. Save the extracted information to a CSV file.\n",
        "\n",
        "\n",
        "\n"
      ],
      "metadata": {
        "id": "KKsFwoAxex5G"
      }
    },
    {
      "cell_type": "markdown",
      "source": [
        "# Install and import required project libraries"
      ],
      "metadata": {
        "id": "B6EUz5hNjmsx"
      }
    },
    {
      "cell_type": "code",
      "source": [
        "!pip install kora --upgrade --quiet\n",
        "!pip install pandas --upgrade --quiet\n",
        "!pip install beautifulsoup4 --upgrade --quiet"
      ],
      "metadata": {
        "id": "a4u3zGdMjoOh"
      },
      "execution_count": null,
      "outputs": []
    },
    {
      "cell_type": "code",
      "source": [
        "# Set up Selenium Webdriver on Colab\n",
        "from kora.selenium import wd\n",
        "from selenium import webdriver\n",
        "from selenium.webdriver.chrome.options import Options\n",
        "from selenium.webdriver.common.by import By"
      ],
      "metadata": {
        "id": "DbJkQhUoj2NS"
      },
      "execution_count": null,
      "outputs": []
    },
    {
      "cell_type": "code",
      "source": [
        "options = Options()\n",
        "options.add_argument('--no-sandbox')\n",
        "options.add_argument('--headless')\n",
        "options.add_argument('--disable-dev-shm-usage')\n",
        "options.add_argument('--disable-blink-features=AutomationControlled')\n",
        "driver = webdriver.Chrome('chromedriver',options=options)"
      ],
      "metadata": {
        "id": "bPX9oCuWkcyJ"
      },
      "execution_count": null,
      "outputs": []
    },
    {
      "cell_type": "code",
      "source": [
        "url = 'https://www.amazon.com'\n",
        "\n",
        "# Using the .get() method of the driver to load the url\n",
        "driver.get(url) \n",
        "\n",
        "# Once the page loads successfully, We can use the .title attribute to access the textual title of the webpage\n",
        "print(driver.title)"
      ],
      "metadata": {
        "colab": {
          "base_uri": "https://localhost:8080/"
        },
        "id": "w0E2R8eEkjNT",
        "outputId": "17840f03-ccd5-48fb-b88e-e845146e63c5"
      },
      "execution_count": null,
      "outputs": [
        {
          "output_type": "stream",
          "name": "stdout",
          "text": [
            "Amazon.com. Spend less. Smile more.\n"
          ]
        }
      ]
    },
    {
      "cell_type": "code",
      "source": [
        "def get_url(search_term):\n",
        "\n",
        "  \"\"\"Generate a url from search term\"\"\"\n",
        "\n",
        "  template  = 'https://www.amazon.in/s?k={}'\n",
        "  search_term = search_term.replace(' ', '+')\n",
        "\n",
        "  return template.format(search_term) "
      ],
      "metadata": {
        "id": "URuuzvHKkn3g"
      },
      "execution_count": null,
      "outputs": []
    },
    {
      "cell_type": "markdown",
      "source": [
        "### Getting url from search term\n",
        "\n",
        "\n",
        "![](https://imgur.com/g6PgHJL.jpeg)"
      ],
      "metadata": {
        "id": "Kj9ie1WYvNg9"
      }
    },
    {
      "cell_type": "code",
      "source": [
        "url  = get_url('apple watch')"
      ],
      "metadata": {
        "id": "UkSLjotLvl3r"
      },
      "execution_count": null,
      "outputs": []
    },
    {
      "cell_type": "code",
      "source": [
        "print(url)"
      ],
      "metadata": {
        "colab": {
          "base_uri": "https://localhost:8080/"
        },
        "id": "Dzp0ZLJywG-W",
        "outputId": "c5094709-24ca-4031-a35c-a320096612a6"
      },
      "execution_count": null,
      "outputs": [
        {
          "output_type": "stream",
          "name": "stdout",
          "text": [
            "https://www.amazon.in/s?k=smart+wathces+for+men\n"
          ]
        }
      ]
    },
    {
      "cell_type": "code",
      "source": [
        "driver.get(url)"
      ],
      "metadata": {
        "id": "9yy2K13fxyfo"
      },
      "execution_count": null,
      "outputs": []
    },
    {
      "cell_type": "markdown",
      "source": [
        "# Extract the collection"
      ],
      "metadata": {
        "id": "CL1WRdgTx3X7"
      }
    },
    {
      "cell_type": "markdown",
      "source": [
        "### **Let's create a soup object which will parse HTML content from the page source** \n",
        "*Try to identify something unique about a record that will unable us to extract all the records from this page as a collection. The best way to find this is to use the document inspector. Right click on the item that we want to inspect such as the heading and click on inspect*\n",
        "\n",
        "![](https://imgur.com/blB8RLG.jpeg)"
      ],
      "metadata": {
        "id": "lvbYIv1s0Fbz"
      }
    },
    {
      "cell_type": "code",
      "source": [
        "from bs4 import BeautifulSoup"
      ],
      "metadata": {
        "id": "tIKYU2ghKWE5"
      },
      "execution_count": null,
      "outputs": []
    },
    {
      "cell_type": "code",
      "source": [
        "soup = BeautifulSoup(driver.page_source, 'html.parser')"
      ],
      "metadata": {
        "id": "6LvqxfY_ywbx"
      },
      "execution_count": null,
      "outputs": []
    },
    {
      "cell_type": "code",
      "source": [
        "results = soup.find_all('div', {'data-component-type': 's-search-result'})"
      ],
      "metadata": {
        "id": "Mzv0K8m547u8"
      },
      "execution_count": null,
      "outputs": []
    },
    {
      "cell_type": "code",
      "source": [
        "len(results)"
      ],
      "metadata": {
        "colab": {
          "base_uri": "https://localhost:8080/"
        },
        "id": "E3Lnl2i45N1u",
        "outputId": "15236c26-f4bb-4135-b90c-45b30a91f869"
      },
      "execution_count": null,
      "outputs": [
        {
          "output_type": "execute_result",
          "data": {
            "text/plain": [
              "16"
            ]
          },
          "metadata": {},
          "execution_count": 129
        }
      ]
    },
    {
      "cell_type": "markdown",
      "source": [
        "# Prototype the record\n",
        "\n",
        "Let's fetch required data from first item in the results list. And, later on we will use this record prototype of fetch information of all items in results list   "
      ],
      "metadata": {
        "id": "4G05OP8T5RxB"
      }
    },
    {
      "cell_type": "code",
      "source": [
        "item = results[0]"
      ],
      "metadata": {
        "id": "cIUvQQXA5SK3"
      },
      "execution_count": null,
      "outputs": []
    },
    {
      "cell_type": "code",
      "source": [
        "atag = item.h2.a"
      ],
      "metadata": {
        "id": "sFpu0CmE5WHq"
      },
      "execution_count": null,
      "outputs": []
    },
    {
      "cell_type": "code",
      "source": [
        "description = atag.text.strip()"
      ],
      "metadata": {
        "id": "SbABLth35W9d"
      },
      "execution_count": null,
      "outputs": []
    },
    {
      "cell_type": "code",
      "source": [
        "url = 'https://www.amazon.in' + atag.get('href')"
      ],
      "metadata": {
        "id": "DDOGcAnl5X6L"
      },
      "execution_count": null,
      "outputs": []
    },
    {
      "cell_type": "code",
      "source": [
        "price_parent = item.find('span', 'a-price')"
      ],
      "metadata": {
        "id": "FYtLuXfp5iIL"
      },
      "execution_count": null,
      "outputs": []
    },
    {
      "cell_type": "code",
      "source": [
        "price = price_parent.find('span', 'a-offscreen').text"
      ],
      "metadata": {
        "id": "_2siFYzK5ju6"
      },
      "execution_count": null,
      "outputs": []
    },
    {
      "cell_type": "code",
      "source": [
        "rating = item.i.text"
      ],
      "metadata": {
        "id": "Et0N1TC85kvE"
      },
      "execution_count": null,
      "outputs": []
    },
    {
      "cell_type": "code",
      "source": [
        "review_count = item.find('span', {'class': 'a-size-base s-underline-text'}).text"
      ],
      "metadata": {
        "id": "pWtWHx315li3"
      },
      "execution_count": null,
      "outputs": []
    },
    {
      "cell_type": "markdown",
      "source": [
        "# Generalize the pattern\n",
        "\n",
        "We'll write a function to extract descrition, price, rank and rating and URL"
      ],
      "metadata": {
        "id": "lDuBhiV659_Q"
      }
    },
    {
      "cell_type": "code",
      "source": [
        "def extract_record(item):\n",
        "  \"\"\"Extract and return data from a single record\"\"\"\n",
        "\n",
        "  # description and url\n",
        "  atag = item.h2.a\n",
        "  description = atag.text.strip()\n",
        "  url = 'https://www.amazon.in' + atag.get('href')\n",
        "\n",
        "  # price\n",
        "  price_parent = item.find('span', 'a-price')\n",
        "  price = price_parent.find('span', 'a-offscreen').text\n",
        "\n",
        "  # rank and rating \n",
        "  rating = item.i.text\n",
        "  review_count = item.find('span', {'class': 'a-size-base s-underline-text'}).text\n",
        "\n",
        "  return{'Description': description,\n",
        "         'Price': price,\n",
        "         'Rating': rating,\n",
        "         'Review_count': review_count,\n",
        "         'URL': url \n",
        "         }"
      ],
      "metadata": {
        "id": "07HymCsa5-TH"
      },
      "execution_count": null,
      "outputs": []
    },
    {
      "cell_type": "code",
      "source": [
        "records = [extract_record(item) for item in results]"
      ],
      "metadata": {
        "id": "PrgI1lbL6FD6"
      },
      "execution_count": null,
      "outputs": []
    },
    {
      "cell_type": "markdown",
      "source": [
        "**_We've got an error here and it is beacuse  our model assumes that these information is available for each result however there are records without prices, without rakings or ratings and what happens is it's looking for the text in a empty object there's nothing there So it gives an attribute error_**\n",
        "\n",
        "![](https://imgur.com/d1jo2WG.jpeg)"
      ],
      "metadata": {
        "id": "aluBbAFZ8Fsu"
      }
    },
    {
      "cell_type": "markdown",
      "source": [
        "# Error Handling"
      ],
      "metadata": {
        "id": "bIFRTQl371NY"
      }
    },
    {
      "cell_type": "code",
      "source": [
        "def extract_record(item):\n",
        "  \"\"\"Extract and return data from a single record\"\"\"\n",
        "\n",
        "  # description and url\n",
        "  atag = item.h2.a\n",
        "  description = atag.text.strip()\n",
        "  url = 'https://www.amazon.in' + atag.get('href')\n",
        "  \n",
        "\n",
        "  try:\n",
        "    # price\n",
        "    price_parent = item.find('span', 'a-price')\n",
        "    price = price_parent.find('span', 'a-offscreen').text\n",
        "  except AttributeError:\n",
        "      return\n",
        "\n",
        "  try:\n",
        "    # rank and rating \n",
        "    rating = item.i.text\n",
        "    review_count = item.find('span', {'class': 'a-size-base s-underline-text'}).text\n",
        "  except AttributeError:\n",
        "    rating = ''\n",
        "    review_count = ''\n",
        "\n",
        "  return{'Description': description,\n",
        "         'Price': price,\n",
        "         'Rating': rating,\n",
        "         'Review_count': review_count,\n",
        "         'URL': url \n",
        "         }"
      ],
      "metadata": {
        "id": "bJRrpXSU6Muv"
      },
      "execution_count": null,
      "outputs": []
    },
    {
      "cell_type": "code",
      "source": [
        "records = [extract_record(item) for item in results]"
      ],
      "metadata": {
        "id": "jMccaMHv-0RQ"
      },
      "execution_count": null,
      "outputs": []
    },
    {
      "cell_type": "code",
      "source": [
        "records[:5]"
      ],
      "metadata": {
        "colab": {
          "base_uri": "https://localhost:8080/"
        },
        "id": "EQJI-crc-3WK",
        "outputId": "c5b5a239-0701-42b2-faa0-c3fea13b711d"
      },
      "execution_count": null,
      "outputs": [
        {
          "output_type": "execute_result",
          "data": {
            "text/plain": [
              "[{'Description': 'boAt Xtend Smartwatch with Alexa Built-in, 1.69” HD Display, Multiple Watch Faces, Stress Monitor, Heart & SpO2 Monitoring, 14 Sports Modes, Sleep Monitor, 5 ATM & 7 Days Battery(Pitch Black)',\n",
              "  'Price': '₹2,999',\n",
              "  'Rating': '4.2 out of 5 stars',\n",
              "  'Review_count': '97,713',\n",
              "  'URL': 'https://www.amazon.in/boAt-Smartwatch-Multiple-Monitoring-Resistance/dp/B096VF5YYF/ref=sr_1_1?keywords=smart+watches+for+men&qid=1661092984&sr=8-1'},\n",
              " {'Description': 'Noise ColorFit Pulse Spo2 Smart Watch with 10 days battery life, 60+ Watch Faces, 1.4\" Full Touch HD Display Smartwatch, 24*7 Heart Rate Monitor Smart Band, Sleep Monitoring Smart Watches for Men and Women & IP68 Waterproof (Jet Black)',\n",
              "  'Price': '₹1,499',\n",
              "  'Rating': '4.0 out of 5 stars',\n",
              "  'Review_count': '53,098',\n",
              "  'URL': 'https://www.amazon.in/Noise-ColorFit-Smartwatch-Monitoring-Waterproof/dp/B097R25DP7/ref=sr_1_2?keywords=smart+watches+for+men&qid=1661092984&sr=8-2'},\n",
              " {'Description': \"Fire-Boltt India's No 1 Smartwatch Brand Talk 2 Bluetooth Calling Smartwatch with Dual Button, Hands On Voice Assistance, 60 Sports Modes, in Built Mic & Speaker with IP68 Rating\",\n",
              "  'Price': '₹2,999',\n",
              "  'Rating': '4.3 out of 5 stars',\n",
              "  'Review_count': '10,228',\n",
              "  'URL': 'https://www.amazon.in/Fire-Boltt-Smartwatch-Bluetooth-Calling-Assistance/dp/B09YV4MW2T/ref=sr_1_3?keywords=smart+watches+for+men&qid=1661092984&sr=8-3'},\n",
              " {'Description': 'boAt Flash Edition Smart Watch with Activity Tracker, Multiple Sports Modes, 1.3\" Screen, 170+ Watch Faces, Sleep Monitor, Gesture, Camera & Music Control, IP68 & 7 Days Battery Life(Lightning Black)',\n",
              "  'Price': '₹2,499',\n",
              "  'Rating': '4.0 out of 5 stars',\n",
              "  'Review_count': '23,067',\n",
              "  'URL': 'https://www.amazon.in/boAt-Flash-Smartwatch-Resistance-Lightning/dp/B0949SBKMP/ref=sr_1_4?keywords=smart+watches+for+men&qid=1661092984&sr=8-4'},\n",
              " {'Description': 'boAt Xtend Smartwatch with Alexa Built-in, 1.69” HD Display, Multiple Watch Faces, Stress Monitor, Heart & SpO2 Monitoring, 14 Sports Modes, Sleep Monitor, 5 ATM & 7 Days Battery(Charcoal Black)',\n",
              "  'Price': '₹2,999',\n",
              "  'Rating': '4.2 out of 5 stars',\n",
              "  'Review_count': '97,713',\n",
              "  'URL': 'https://www.amazon.in/boAt-Display-Multiple-Monitoring-Charcoal/dp/B09MQSCJQ1/ref=sr_1_5?keywords=smart+watches+for+men&qid=1661092984&sr=8-5'}]"
            ]
          },
          "metadata": {},
          "execution_count": 142
        }
      ]
    },
    {
      "cell_type": "markdown",
      "source": [
        "# Getting the next page\n",
        "\n",
        "We'll modify the get_url fuction used above to get next page"
      ],
      "metadata": {
        "id": "MqbsKcg9BJB_"
      }
    },
    {
      "cell_type": "code",
      "source": [
        "def get_url(search_term):\n",
        "  \"\"\"Generate a url from search term\"\"\"\n",
        "  template  = 'https://www.amazon.in/s?k={}'\n",
        "  search_term = search_term.replace(' ', '+')\n",
        "\n",
        "  # add term query to url\n",
        "  url = template.format(search_term)\n",
        "\n",
        "  # add page query placeholder\n",
        "  url += '&page{}'\n",
        "\n",
        "  return url"
      ],
      "metadata": {
        "id": "QA2XJ93_BJeN"
      },
      "execution_count": null,
      "outputs": []
    },
    {
      "cell_type": "markdown",
      "source": [
        "# Putting All code together\n",
        "\n",
        "Let's write a final code from the codes written above and create main function where we enter the search_term as the product or item that we wish to search on [Amazon](https://www.Amazon.com). "
      ],
      "metadata": {
        "id": "_O0OgVltBO1W"
      }
    },
    {
      "cell_type": "code",
      "source": [
        "import csv\n",
        "import pandas as pd\n",
        "from bs4 import BeautifulSoup\n",
        "\n",
        "from kora.selenium import wd\n",
        "from selenium import webdriver\n",
        "from selenium.webdriver.chrome.options import Options\n",
        "from selenium.webdriver.common.by import By\n",
        "\n",
        "\n",
        "\n",
        "def get_url(search_term):\n",
        "  \"\"\"Generate a url from search term\"\"\"\n",
        "  template  = 'https://www.amazon.in/s?k={}'\n",
        "  search_term = search_term.replace(' ', '+')\n",
        "\n",
        "  # add term query to url\n",
        "  url = template.format(search_term)\n",
        "\n",
        "  # add page query placeholder\n",
        "  url += '&page={}'\n",
        "\n",
        "  return url\n",
        "\n",
        "\n",
        "def extract_record(item):\n",
        "  \"\"\"Extract and return data from a single record\"\"\"\n",
        "\n",
        "  # description and url\n",
        "  atag = item.h2.a\n",
        "  description = atag.text.strip()\n",
        "  url = 'https://www.amazon.in' + atag.get('href')\n",
        "  \n",
        "\n",
        "  try:\n",
        "    # price\n",
        "    price_parent = item.find('span', 'a-price')\n",
        "    price = price_parent.find('span', 'a-offscreen').text\n",
        "  except AttributeError:\n",
        "      return\n",
        "\n",
        "  try:\n",
        "    # rank and rating \n",
        "    rating = item.i.text\n",
        "    review_count = item.find('span', {'class': 'a-size-base s-underline-text'}).text\n",
        "  except AttributeError:\n",
        "    rating = ''\n",
        "    review_count = ''\n",
        "\n",
        "  return{'description': description,\n",
        "         'Price': price,\n",
        "         'Rating': rating,\n",
        "         'Review_count': review_count,\n",
        "         'URL': url \n",
        "         } \n",
        "\n",
        "def main(search_term):\n",
        "  \"\"\"Run main program routine\"\"\"\n",
        "\n",
        "  # startup the webdriver  \n",
        "  options = Options()\n",
        "  options.add_argument('--no-sandbox')\n",
        "  options.add_argument('--headless')\n",
        "  options.add_argument('--disable-dev-shm-usage')\n",
        "  options.add_argument('--disable-blink-features=AutomationControlled')\n",
        "  driver = webdriver.Chrome('chromedriver',options=options)\n",
        "\n",
        "  records = []\n",
        "  url = get_url(search_term)\n",
        "\n",
        "  for page in range(1, 21):\n",
        "    driver.get(url.format(page))\n",
        "    soup = BeautifulSoup(driver.page_source, 'html.parser')\n",
        "    results = soup.find_all('div', {'data-component-type': 's-search-result'})\n",
        "\n",
        "    for item in results:\n",
        "      record = extract_record(item)\n",
        "      if record:\n",
        "        records.append(record)\n",
        "\n",
        "\n",
        "  # save the data to a csv file\n",
        "  search_records = pd.DataFrame(records)\n",
        "  search_records.to_csv('records.csv', index=None)"
      ],
      "metadata": {
        "id": "5__3km7hBPHH"
      },
      "execution_count": null,
      "outputs": []
    },
    {
      "cell_type": "code",
      "source": [
        "main('smart wathces for men')"
      ],
      "metadata": {
        "id": "e9VfZUZkGmYZ"
      },
      "execution_count": null,
      "outputs": []
    },
    {
      "cell_type": "code",
      "source": [
        "search_records = pd.DataFrame(records)\n",
        "search_records"
      ],
      "metadata": {
        "colab": {
          "base_uri": "https://localhost:8080/",
          "height": 1001
        },
        "id": "TjJ7mva34nUH",
        "outputId": "667e0c79-8f92-4f4c-8b15-86e1dd1ef9ab"
      },
      "execution_count": null,
      "outputs": [
        {
          "output_type": "execute_result",
          "data": {
            "text/plain": [
              "                                          Description   Price  \\\n",
              "0   boAt Xtend Smartwatch with Alexa Built-in, 1.6...  ₹2,999   \n",
              "1   Noise ColorFit Pulse Spo2 Smart Watch with 10 ...  ₹1,499   \n",
              "2   Fire-Boltt India's No 1 Smartwatch Brand Talk ...  ₹2,999   \n",
              "3   boAt Flash Edition Smart Watch with Activity T...  ₹2,499   \n",
              "4   boAt Xtend Smartwatch with Alexa Built-in, 1.6...  ₹2,999   \n",
              "5   boAt Xtend Smart Watch with Alexa Built-in, 1....  ₹2,999   \n",
              "6   boAt Wave Lite Smartwatch with 1.69\" HD Displa...  ₹1,799   \n",
              "7   Noise ColorFit Pulse Grand Smart Watch with 1....  ₹1,999   \n",
              "8   boAt Wave Call Smart Watch with Bluetooth Call...  ₹2,999   \n",
              "9   Fire-Boltt Ninja 2 SpO2 Full Touch Smartwatch ...  ₹1,699   \n",
              "10  Fire-Boltt India's No 1 Smartwatch Brand Ring ...  ₹3,999   \n",
              "11  Noise ColorFit Ultra Buzz Bluetooth Calling Sm...  ₹3,499   \n",
              "12  Newly Launched Fire-Boltt Ring 3 Bluetooth Cal...  ₹4,499   \n",
              "13  Crossbeats Orbit Bluetooth Calling Smart Watch...  ₹3,999   \n",
              "14  Noise ColorFit Pulse Smartwatch with 1.4\" Full...  ₹1,499   \n",
              "15  Noise X-Fit 1 ( HRX Edition) Smart Watch Fitne...  ₹1,999   \n",
              "\n",
              "                Rating Review_count  \\\n",
              "0   4.2 out of 5 stars       97,713   \n",
              "1   4.0 out of 5 stars       53,098   \n",
              "2   4.3 out of 5 stars       10,228   \n",
              "3   4.0 out of 5 stars       23,067   \n",
              "4   4.2 out of 5 stars       97,713   \n",
              "5   4.2 out of 5 stars       97,713   \n",
              "6   4.0 out of 5 stars        9,627   \n",
              "7   4.0 out of 5 stars       15,202   \n",
              "8   4.0 out of 5 stars        1,231   \n",
              "9   4.2 out of 5 stars       32,226   \n",
              "10  4.0 out of 5 stars       32,563   \n",
              "11  4.1 out of 5 stars        2,988   \n",
              "12  4.4 out of 5 stars        5,288   \n",
              "13  3.8 out of 5 stars        4,924   \n",
              "14  4.0 out of 5 stars       53,098   \n",
              "15  4.1 out of 5 stars        2,414   \n",
              "\n",
              "                                                  URL  \n",
              "0   https://www.amazon.in/boAt-Smartwatch-Multiple...  \n",
              "1   https://www.amazon.in/Noise-ColorFit-Smartwatc...  \n",
              "2   https://www.amazon.in/Fire-Boltt-Smartwatch-Bl...  \n",
              "3   https://www.amazon.in/boAt-Flash-Smartwatch-Re...  \n",
              "4   https://www.amazon.in/boAt-Display-Multiple-Mo...  \n",
              "5   https://www.amazon.in/boAt-Smartwatch-Multiple...  \n",
              "6   https://www.amazon.in/boAt-Wave-Lite-Smartwatc...  \n",
              "7   https://www.amazon.in/Noise-ColorFit-Display-M...  \n",
              "8   https://www.amazon.in/boAt-Wave-Call-Bluetooth...  \n",
              "9   https://www.amazon.in/Fire-Boltt-Smartwatch-Wo...  \n",
              "10  https://www.amazon.in/Fire-Boltt-Smartwatch-Mo...  \n",
              "11  https://www.amazon.in/Noise-ColorFit-Bluetooth...  \n",
              "12  https://www.amazon.in/Fire-Boltt-Smartwatch-As...  \n",
              "13  https://www.amazon.in/Crossbeats-Bluetooth-Cal...  \n",
              "14  https://www.amazon.in/Noise-ColorFit-Smartwatc...  \n",
              "15  https://www.amazon.in/Noise-Fitness-Tracker-Tr...  "
            ],
            "text/html": [
              "\n",
              "  <div id=\"df-c7e15198-943e-4f57-9c93-3c6590274463\">\n",
              "    <div class=\"colab-df-container\">\n",
              "      <div>\n",
              "<style scoped>\n",
              "    .dataframe tbody tr th:only-of-type {\n",
              "        vertical-align: middle;\n",
              "    }\n",
              "\n",
              "    .dataframe tbody tr th {\n",
              "        vertical-align: top;\n",
              "    }\n",
              "\n",
              "    .dataframe thead th {\n",
              "        text-align: right;\n",
              "    }\n",
              "</style>\n",
              "<table border=\"1\" class=\"dataframe\">\n",
              "  <thead>\n",
              "    <tr style=\"text-align: right;\">\n",
              "      <th></th>\n",
              "      <th>Description</th>\n",
              "      <th>Price</th>\n",
              "      <th>Rating</th>\n",
              "      <th>Review_count</th>\n",
              "      <th>URL</th>\n",
              "    </tr>\n",
              "  </thead>\n",
              "  <tbody>\n",
              "    <tr>\n",
              "      <th>0</th>\n",
              "      <td>boAt Xtend Smartwatch with Alexa Built-in, 1.6...</td>\n",
              "      <td>₹2,999</td>\n",
              "      <td>4.2 out of 5 stars</td>\n",
              "      <td>97,713</td>\n",
              "      <td>https://www.amazon.in/boAt-Smartwatch-Multiple...</td>\n",
              "    </tr>\n",
              "    <tr>\n",
              "      <th>1</th>\n",
              "      <td>Noise ColorFit Pulse Spo2 Smart Watch with 10 ...</td>\n",
              "      <td>₹1,499</td>\n",
              "      <td>4.0 out of 5 stars</td>\n",
              "      <td>53,098</td>\n",
              "      <td>https://www.amazon.in/Noise-ColorFit-Smartwatc...</td>\n",
              "    </tr>\n",
              "    <tr>\n",
              "      <th>2</th>\n",
              "      <td>Fire-Boltt India's No 1 Smartwatch Brand Talk ...</td>\n",
              "      <td>₹2,999</td>\n",
              "      <td>4.3 out of 5 stars</td>\n",
              "      <td>10,228</td>\n",
              "      <td>https://www.amazon.in/Fire-Boltt-Smartwatch-Bl...</td>\n",
              "    </tr>\n",
              "    <tr>\n",
              "      <th>3</th>\n",
              "      <td>boAt Flash Edition Smart Watch with Activity T...</td>\n",
              "      <td>₹2,499</td>\n",
              "      <td>4.0 out of 5 stars</td>\n",
              "      <td>23,067</td>\n",
              "      <td>https://www.amazon.in/boAt-Flash-Smartwatch-Re...</td>\n",
              "    </tr>\n",
              "    <tr>\n",
              "      <th>4</th>\n",
              "      <td>boAt Xtend Smartwatch with Alexa Built-in, 1.6...</td>\n",
              "      <td>₹2,999</td>\n",
              "      <td>4.2 out of 5 stars</td>\n",
              "      <td>97,713</td>\n",
              "      <td>https://www.amazon.in/boAt-Display-Multiple-Mo...</td>\n",
              "    </tr>\n",
              "    <tr>\n",
              "      <th>5</th>\n",
              "      <td>boAt Xtend Smart Watch with Alexa Built-in, 1....</td>\n",
              "      <td>₹2,999</td>\n",
              "      <td>4.2 out of 5 stars</td>\n",
              "      <td>97,713</td>\n",
              "      <td>https://www.amazon.in/boAt-Smartwatch-Multiple...</td>\n",
              "    </tr>\n",
              "    <tr>\n",
              "      <th>6</th>\n",
              "      <td>boAt Wave Lite Smartwatch with 1.69\" HD Displa...</td>\n",
              "      <td>₹1,799</td>\n",
              "      <td>4.0 out of 5 stars</td>\n",
              "      <td>9,627</td>\n",
              "      <td>https://www.amazon.in/boAt-Wave-Lite-Smartwatc...</td>\n",
              "    </tr>\n",
              "    <tr>\n",
              "      <th>7</th>\n",
              "      <td>Noise ColorFit Pulse Grand Smart Watch with 1....</td>\n",
              "      <td>₹1,999</td>\n",
              "      <td>4.0 out of 5 stars</td>\n",
              "      <td>15,202</td>\n",
              "      <td>https://www.amazon.in/Noise-ColorFit-Display-M...</td>\n",
              "    </tr>\n",
              "    <tr>\n",
              "      <th>8</th>\n",
              "      <td>boAt Wave Call Smart Watch with Bluetooth Call...</td>\n",
              "      <td>₹2,999</td>\n",
              "      <td>4.0 out of 5 stars</td>\n",
              "      <td>1,231</td>\n",
              "      <td>https://www.amazon.in/boAt-Wave-Call-Bluetooth...</td>\n",
              "    </tr>\n",
              "    <tr>\n",
              "      <th>9</th>\n",
              "      <td>Fire-Boltt Ninja 2 SpO2 Full Touch Smartwatch ...</td>\n",
              "      <td>₹1,699</td>\n",
              "      <td>4.2 out of 5 stars</td>\n",
              "      <td>32,226</td>\n",
              "      <td>https://www.amazon.in/Fire-Boltt-Smartwatch-Wo...</td>\n",
              "    </tr>\n",
              "    <tr>\n",
              "      <th>10</th>\n",
              "      <td>Fire-Boltt India's No 1 Smartwatch Brand Ring ...</td>\n",
              "      <td>₹3,999</td>\n",
              "      <td>4.0 out of 5 stars</td>\n",
              "      <td>32,563</td>\n",
              "      <td>https://www.amazon.in/Fire-Boltt-Smartwatch-Mo...</td>\n",
              "    </tr>\n",
              "    <tr>\n",
              "      <th>11</th>\n",
              "      <td>Noise ColorFit Ultra Buzz Bluetooth Calling Sm...</td>\n",
              "      <td>₹3,499</td>\n",
              "      <td>4.1 out of 5 stars</td>\n",
              "      <td>2,988</td>\n",
              "      <td>https://www.amazon.in/Noise-ColorFit-Bluetooth...</td>\n",
              "    </tr>\n",
              "    <tr>\n",
              "      <th>12</th>\n",
              "      <td>Newly Launched Fire-Boltt Ring 3 Bluetooth Cal...</td>\n",
              "      <td>₹4,499</td>\n",
              "      <td>4.4 out of 5 stars</td>\n",
              "      <td>5,288</td>\n",
              "      <td>https://www.amazon.in/Fire-Boltt-Smartwatch-As...</td>\n",
              "    </tr>\n",
              "    <tr>\n",
              "      <th>13</th>\n",
              "      <td>Crossbeats Orbit Bluetooth Calling Smart Watch...</td>\n",
              "      <td>₹3,999</td>\n",
              "      <td>3.8 out of 5 stars</td>\n",
              "      <td>4,924</td>\n",
              "      <td>https://www.amazon.in/Crossbeats-Bluetooth-Cal...</td>\n",
              "    </tr>\n",
              "    <tr>\n",
              "      <th>14</th>\n",
              "      <td>Noise ColorFit Pulse Smartwatch with 1.4\" Full...</td>\n",
              "      <td>₹1,499</td>\n",
              "      <td>4.0 out of 5 stars</td>\n",
              "      <td>53,098</td>\n",
              "      <td>https://www.amazon.in/Noise-ColorFit-Smartwatc...</td>\n",
              "    </tr>\n",
              "    <tr>\n",
              "      <th>15</th>\n",
              "      <td>Noise X-Fit 1 ( HRX Edition) Smart Watch Fitne...</td>\n",
              "      <td>₹1,999</td>\n",
              "      <td>4.1 out of 5 stars</td>\n",
              "      <td>2,414</td>\n",
              "      <td>https://www.amazon.in/Noise-Fitness-Tracker-Tr...</td>\n",
              "    </tr>\n",
              "  </tbody>\n",
              "</table>\n",
              "</div>\n",
              "      <button class=\"colab-df-convert\" onclick=\"convertToInteractive('df-c7e15198-943e-4f57-9c93-3c6590274463')\"\n",
              "              title=\"Convert this dataframe to an interactive table.\"\n",
              "              style=\"display:none;\">\n",
              "        \n",
              "  <svg xmlns=\"http://www.w3.org/2000/svg\" height=\"24px\"viewBox=\"0 0 24 24\"\n",
              "       width=\"24px\">\n",
              "    <path d=\"M0 0h24v24H0V0z\" fill=\"none\"/>\n",
              "    <path d=\"M18.56 5.44l.94 2.06.94-2.06 2.06-.94-2.06-.94-.94-2.06-.94 2.06-2.06.94zm-11 1L8.5 8.5l.94-2.06 2.06-.94-2.06-.94L8.5 2.5l-.94 2.06-2.06.94zm10 10l.94 2.06.94-2.06 2.06-.94-2.06-.94-.94-2.06-.94 2.06-2.06.94z\"/><path d=\"M17.41 7.96l-1.37-1.37c-.4-.4-.92-.59-1.43-.59-.52 0-1.04.2-1.43.59L10.3 9.45l-7.72 7.72c-.78.78-.78 2.05 0 2.83L4 21.41c.39.39.9.59 1.41.59.51 0 1.02-.2 1.41-.59l7.78-7.78 2.81-2.81c.8-.78.8-2.07 0-2.86zM5.41 20L4 18.59l7.72-7.72 1.47 1.35L5.41 20z\"/>\n",
              "  </svg>\n",
              "      </button>\n",
              "      \n",
              "  <style>\n",
              "    .colab-df-container {\n",
              "      display:flex;\n",
              "      flex-wrap:wrap;\n",
              "      gap: 12px;\n",
              "    }\n",
              "\n",
              "    .colab-df-convert {\n",
              "      background-color: #E8F0FE;\n",
              "      border: none;\n",
              "      border-radius: 50%;\n",
              "      cursor: pointer;\n",
              "      display: none;\n",
              "      fill: #1967D2;\n",
              "      height: 32px;\n",
              "      padding: 0 0 0 0;\n",
              "      width: 32px;\n",
              "    }\n",
              "\n",
              "    .colab-df-convert:hover {\n",
              "      background-color: #E2EBFA;\n",
              "      box-shadow: 0px 1px 2px rgba(60, 64, 67, 0.3), 0px 1px 3px 1px rgba(60, 64, 67, 0.15);\n",
              "      fill: #174EA6;\n",
              "    }\n",
              "\n",
              "    [theme=dark] .colab-df-convert {\n",
              "      background-color: #3B4455;\n",
              "      fill: #D2E3FC;\n",
              "    }\n",
              "\n",
              "    [theme=dark] .colab-df-convert:hover {\n",
              "      background-color: #434B5C;\n",
              "      box-shadow: 0px 1px 3px 1px rgba(0, 0, 0, 0.15);\n",
              "      filter: drop-shadow(0px 1px 2px rgba(0, 0, 0, 0.3));\n",
              "      fill: #FFFFFF;\n",
              "    }\n",
              "  </style>\n",
              "\n",
              "      <script>\n",
              "        const buttonEl =\n",
              "          document.querySelector('#df-c7e15198-943e-4f57-9c93-3c6590274463 button.colab-df-convert');\n",
              "        buttonEl.style.display =\n",
              "          google.colab.kernel.accessAllowed ? 'block' : 'none';\n",
              "\n",
              "        async function convertToInteractive(key) {\n",
              "          const element = document.querySelector('#df-c7e15198-943e-4f57-9c93-3c6590274463');\n",
              "          const dataTable =\n",
              "            await google.colab.kernel.invokeFunction('convertToInteractive',\n",
              "                                                     [key], {});\n",
              "          if (!dataTable) return;\n",
              "\n",
              "          const docLinkHtml = 'Like what you see? Visit the ' +\n",
              "            '<a target=\"_blank\" href=https://colab.research.google.com/notebooks/data_table.ipynb>data table notebook</a>'\n",
              "            + ' to learn more about interactive tables.';\n",
              "          element.innerHTML = '';\n",
              "          dataTable['output_type'] = 'display_data';\n",
              "          await google.colab.output.renderOutput(dataTable, element);\n",
              "          const docLink = document.createElement('div');\n",
              "          docLink.innerHTML = docLinkHtml;\n",
              "          element.appendChild(docLink);\n",
              "        }\n",
              "      </script>\n",
              "    </div>\n",
              "  </div>\n",
              "  "
            ]
          },
          "metadata": {},
          "execution_count": 160
        }
      ]
    },
    {
      "cell_type": "markdown",
      "source": [
        "# Summary\n",
        "\n",
        "Here is what we covered so far :\n",
        "\n",
        "\n",
        "*   Downloaded the webpage using driver.get() method of selenium\n",
        "*   Parsed the HTML source code using beautifulsoup\n",
        "*   Extracted the product information by creating the python functions \n",
        "*   Saved the extracted information to a CSV file\n",
        "\n",
        "\n",
        "\n"
      ],
      "metadata": {
        "id": "hsiSGbfGkKv6"
      }
    },
    {
      "cell_type": "markdown",
      "source": [
        "# Future Work\n",
        "\n",
        "\n",
        "*   We can fetch the information of any amazon product by just giving the search_term in main() function created above\n",
        "\n",
        "*   We can import sqlalchemy and do data analysis to get best product out of the list of the list of products by using sql query on rating, price, and review_count columns \n",
        "\n",
        "\n",
        "\n",
        "\n",
        "\n"
      ],
      "metadata": {
        "id": "JDft_Ez1mQG4"
      }
    },
    {
      "cell_type": "markdown",
      "source": [
        "# References\n",
        "\n",
        "\n",
        "\n",
        "* [Introduction to Web Scraping and REST APIs\n",
        "](https://jovian.ai/vishal20jun/python-web-scraping-and-rest-api-53308)\n",
        "* [BeautifulSoup](https://www.crummy.com/software/BeautifulSoup/bs4/doc/)\n",
        "* [Selenium tutorial](https://www.youtube.com/redirect?event=video_description&redir_token=QUFFLUhqbW85bmtPc25kREpFc2RJVU1BWXEwTWRXUGYyUXxBQ3Jtc0tsQlJsanZaUzl4WHNTYm9iV0xXcFBaNldTS3N6bU1NVzdhZllGVTV2NXE4d19QUEwwMlQ2RWExOFZILWZVYlgyZkZKbjhYRnFkNzF3UnR6M0Jialo1a2x2TXB1SGI0dFZRdVJZUTJVcGpJeXlHa0ZEaw&q=https%3A%2F%2Fwww.browserstack.com%2Fguide%2Fpython-selenium-to-run-web-automation-test&v=FcW-AXsirBE)\n",
        "* [Selenium Tutorial for Beginners with Deployment to AWS Lambda](https://www.youtube.com/watch?v=FcW-AXsirBE&t=2904s)\n",
        "\n",
        "\n",
        "\n",
        "\n",
        "\n",
        "\n"
      ],
      "metadata": {
        "id": "R3eeSWv7oQQm"
      }
    },
    {
      "cell_type": "code",
      "source": [
        "jovian.commit()"
      ],
      "metadata": {
        "colab": {
          "base_uri": "https://localhost:8080/",
          "height": 88
        },
        "id": "Fm4VVWx7qLIi",
        "outputId": "3e246ea8-f9fa-4921-8370-9de45e5b1178"
      },
      "execution_count": null,
      "outputs": [
        {
          "output_type": "stream",
          "name": "stdout",
          "text": [
            "[jovian] Detected Colab notebook...\u001b[0m\n",
            "[jovian] Uploading colab notebook to Jovian...\u001b[0m\n",
            "Committed successfully! https://jovian.ai/vishal20jun/project\n"
          ]
        },
        {
          "output_type": "execute_result",
          "data": {
            "text/plain": [
              "'https://jovian.ai/vishal20jun/project'"
            ],
            "application/vnd.google.colaboratory.intrinsic+json": {
              "type": "string"
            }
          },
          "metadata": {},
          "execution_count": 61
        }
      ]
    },
    {
      "cell_type": "code",
      "source": [],
      "metadata": {
        "id": "uonwgmtjqS-s"
      },
      "execution_count": null,
      "outputs": []
    }
  ]
}